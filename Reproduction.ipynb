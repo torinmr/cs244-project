{
 "cells": [
  {
   "cell_type": "markdown",
   "metadata": {},
   "source": [
    "# Reproduction of the Stiliadis"
   ]
  },
  {
   "cell_type": "markdown",
   "metadata": {},
   "source": [
    "## Reproduction of Figure 4 of Stiliadis \n",
    "\n",
    "This is the reproduction of the figure 4 from Stiliadis without running PIM after the matching process. Figure 4 plots the average delay of the packets in 16 times 16 packet switch under the client-server traffic model. For the client-server model, the paper assumed that the server takes to 4 input/output ports and the client takes 12 input/output ports. Then, the server allocates 95 percents of its bandwidth to the client output ports, 5 percent to other server ports. The client allocates 40 percent of its bandwidth to the server output ports and 60 percent of its bandwidth to the client output ports. `ClientServerInputGenerator` generates the traffic in such way.\n",
    "\n",
    "We increased the load to each input port from 0.05 to 1. Note that if the packet gets immediately queued to the output port, then the delay is 0.\n",
    "\n",
    "The authors did not mention up until when they simulated the switching. For our experiment, we sent total of 10,000 packets.\n",
    "\n",
    "This version of the switch faithfully generates the plot in the original paper."
   ]
  },
  {
   "cell_type": "code",
   "execution_count": 12,
   "metadata": {
    "scrolled": true
   },
   "outputs": [
    {
     "name": "stderr",
     "output_type": "stream",
     "text": [
      "\n",
      "\n",
      "\n",
      "  0%|          | 0/19 [00:00<?, ?it/s]\u001b[A\u001b[A\u001b[A"
     ]
    },
    {
     "name": "stdout",
     "output_type": "stream",
     "text": [
      "The autoreload extension is already loaded. To reload it, use:\n",
      "  %reload_ext autoreload\n"
     ]
    },
    {
     "name": "stderr",
     "output_type": "stream",
     "text": [
      "\n",
      "\n",
      "\n",
      "  5%|▌         | 1/19 [00:10<03:05, 10.30s/it]\u001b[A\u001b[A\u001b[A\n",
      "\n",
      "\n",
      " 11%|█         | 2/19 [00:20<02:55, 10.30s/it]\u001b[A\u001b[A\u001b[A\n",
      "\n",
      "\n",
      " 16%|█▌        | 3/19 [00:30<02:42, 10.13s/it]\u001b[A\u001b[A\u001b[A\n",
      "\n",
      "\n",
      " 21%|██        | 4/19 [00:39<02:29,  9.97s/it]\u001b[A\u001b[A\u001b[A\n",
      "\n",
      "\n",
      " 26%|██▋       | 5/19 [00:49<02:19,  9.94s/it]\u001b[A\u001b[A\u001b[A\n",
      "\n",
      "\n",
      " 32%|███▏      | 6/19 [01:00<02:11, 10.10s/it]\u001b[A\u001b[A\u001b[A\n",
      "\n",
      "\n",
      " 37%|███▋      | 7/19 [21:11<36:20, 181.67s/it]\u001b[A\u001b[A\u001b[A\n",
      "\n",
      "\n",
      " 42%|████▏     | 8/19 [21:33<29:38, 161.67s/it]\u001b[A\u001b[A\u001b[A\n",
      "\n",
      "\n",
      " 47%|████▋     | 9/19 [21:43<24:08, 144.83s/it]\u001b[A\u001b[A\u001b[A\n",
      "\n",
      "\n",
      " 53%|█████▎    | 10/19 [21:53<19:42, 131.38s/it]\u001b[A\u001b[A\u001b[A\n",
      "\n",
      "\n",
      " 58%|█████▊    | 11/19 [42:07<30:38, 229.76s/it]\u001b[A\u001b[A\u001b[A\n",
      "\n",
      "\n",
      " 63%|██████▎   | 12/19 [42:28<24:46, 212.38s/it]\u001b[A\u001b[A\u001b[A\n",
      "\n",
      "\n",
      " 68%|██████▊   | 13/19 [1:02:39<28:55, 289.22s/it]\u001b[A\u001b[A\u001b[A\n",
      "\n",
      "\n",
      " 74%|███████▎  | 14/19 [1:03:02<22:30, 270.18s/it]\u001b[A\u001b[A\u001b[A\n",
      "\n",
      "\n",
      " 79%|███████▉  | 15/19 [1:03:13<16:51, 252.93s/it]\u001b[A\u001b[A\u001b[A\n",
      "\n",
      "\n",
      " 84%|████████▍ | 16/19 [1:23:26<15:38, 312.93s/it]\u001b[A\u001b[A\u001b[A\n",
      "\n",
      "\n",
      " 89%|████████▉ | 17/19 [1:23:50<09:51, 295.92s/it]\u001b[A\u001b[A\u001b[A\n",
      "\n",
      "\n",
      " 95%|█████████▍| 18/19 [1:24:03<04:40, 280.17s/it]\u001b[A\u001b[A\u001b[A\n",
      "\n",
      "\n",
      "100%|██████████| 19/19 [1:44:28<00:00, 329.94s/it]\u001b[A\u001b[A\u001b[A\n",
      "\n",
      "\n",
      "\u001b[A\u001b[A\u001b[A"
     ]
    }
   ],
   "source": [
    "%matplotlib inline\n",
    "# Automatically reload modules to pick up changes.\n",
    "# See https://ipython.org/ipython-doc/3/config/extensions/autoreload.html\n",
    "%load_ext autoreload\n",
    "%autoreload 2\n",
    "\n",
    "from lib.client_server_input_generator import ClientServerInputGenerator\n",
    "from lib.pim import PimSwitch\n",
    "from lib.statistical import StatisticalSwitch\n",
    "from lib.wpim import WPimSwitch\n",
    "from lib.plot import draw_plot\n",
    "import numpy as np\n",
    "from tqdm import tqdm\n",
    "\n",
    "loads = np.linspace(0.05, 0.95, 19)\n",
    "credit = np.zeros((16, 16))\n",
    "\n",
    "# 95% of server traffic distributed to 12 clients, 5% to other servers\n",
    "# 40% of client traffic goes to 4 servers. 60% goes to clients\n",
    "\n",
    "# Server credits\n",
    "for i in range(4):\n",
    "    for j in range(16):\n",
    "        if j < 4 and j != i:\n",
    "            credit[i][j] = 1000 * 0.05 / 3\n",
    "        elif j >= 4:\n",
    "            credit[i][j] = 1000 * 0.95 / 12\n",
    "\n",
    "# Client credits\n",
    "for i in range(4, 16):\n",
    "    for j in range(16):\n",
    "        if j < 4:\n",
    "            credit[i][j] = 1000 * 0.1\n",
    "        elif j >= 4 and j != i:\n",
    "            credit[i][j] = 1000 * 0.6 / 11\n",
    "\n",
    "total_run = 10000\n",
    "\n",
    "delay_per_load = np.zeros((2, len(loads)))\n",
    "\n",
    "for l, load in enumerate(tqdm(loads)):\n",
    "    switches = [StatisticalSwitch(16, 16, credit), WPimSwitch(16, 16, credit, frame_length=1000)]\n",
    "    for i, switch in enumerate(switches):\n",
    "        gen = ClientServerInputGenerator(switch, L=load)\n",
    "        gen.run(total_run)\n",
    "\n",
    "        # Compute the average queueing delay of packets.\n",
    "        delays = []\n",
    "        for packet in switch.processed_packets:\n",
    "            delays.append(packet.time_in_queue)\n",
    "\n",
    "        average_delay = np.average(delays)\n",
    "        delay_per_load[i][l] = average_delay"
   ]
  },
  {
   "cell_type": "code",
   "execution_count": 13,
   "metadata": {},
   "outputs": [
    {
     "data": {
      "image/png": "[encoded data removed]",
      "text/plain": [
       "<Figure size 432x288 with 1 Axes>"
      ]
     },
     "metadata": {
      "needs_background": "light"
     },
     "output_type": "display_data"
    }
   ],
   "source": [
    "plt = draw_plot(loads, delay_per_load, [\"Statistical\", \"WPIM\"], scale=\"log\", title=\"Fig 4 (without PIM)\", xlabel=\"Total offered load\", ylabel=\"Average delay\", ylim=[10**(-2),1000])\n"
   ]
  },
  {
   "cell_type": "markdown",
   "metadata": {},
   "source": [
    "However, the original statistical matching paper mentions about running PIM after the matching process since it can only utilize 72% of the provided bandwidth. With this being enabled, the plot looks very different. "
   ]
  },
  {
   "cell_type": "code",
   "execution_count": null,
   "metadata": {},
   "outputs": [
    {
     "name": "stderr",
     "output_type": "stream",
     "text": [
      "\n",
      "\n",
      "\n",
      "  0%|          | 0/19 [00:00<?, ?it/s]\u001b[A\u001b[A\u001b[A\n",
      "\n",
      "\n",
      "  5%|▌         | 1/19 [00:11<03:34, 11.94s/it]\u001b[A\u001b[A\u001b[A\n",
      "\n",
      "\n",
      " 11%|█         | 2/19 [00:23<03:20, 11.80s/it]\u001b[A\u001b[A\u001b[A\n",
      "\n",
      "\n",
      " 16%|█▌        | 3/19 [00:35<03:07, 11.74s/it]\u001b[A\u001b[A\u001b[A\n",
      "\n",
      "\n",
      " 21%|██        | 4/19 [3:18:12<12:23:16, 2973.09s/it]\u001b[A\u001b[A\u001b[A"
     ]
    }
   ],
   "source": [
    "from lib.statistical import StatisticalSwitch\n",
    "from lib.wpim import WPimSwitch\n",
    "\n",
    "delay_per_load_pim = np.zeros((2, len(loads)))\n",
    "\n",
    "for l, load in enumerate(tqdm(loads)):\n",
    "    switches = [StatisticalSwitch(16, 16, credit, run_pim_after=True), WPimSwitch(16, 16, credit, frame_length=1000, run_pim_after=True)]\n",
    "    for i, switch in enumerate(switches):\n",
    "        gen = ClientServerInputGenerator(switch, L=load)\n",
    "        gen.run(total_run)\n",
    "\n",
    "        # Compute the average queueing delay of packets.\n",
    "        delays = []\n",
    "        for packet in switch.processed_packets:\n",
    "            delays.append(packet.time_in_queue)\n",
    "\n",
    "        average_delay = np.average(delays)\n",
    "        delay_per_load_pim[i][l] = average_delay\n",
    "\n"
   ]
  },
  {
   "cell_type": "code",
   "execution_count": null,
   "metadata": {},
   "outputs": [],
   "source": [
    "plt = draw_plot(loads, delay_per_load_pim, [\"Statistical\", \"WPIM\"], scale=\"log\", title=\"Fig 4 (with PIM)\", xlabel=\"Total offered load\", ylabel=\"Average delay\", ylim=[0.01,1000])\n"
   ]
  },
  {
   "cell_type": "markdown",
   "metadata": {},
   "source": [
    "## Reproduction of Figure 5 of Stiliadis \n",
    "\n",
    "Again, this is the reproduction of figure 5 from Stiliadis without running PIM after the matching process. Figure 5 is the plot of the latency of the packets in the same client-server traffic model used in figure 4 but against the different number of iterations for the WPIM matching. \n",
    "\n",
    "This one also closely matches to the one in the paper."
   ]
  },
  {
   "cell_type": "code",
   "execution_count": null,
   "metadata": {},
   "outputs": [],
   "source": [
    "delay_per_load = np.zeros((4, len(loads)))\n",
    "\n",
    "for num_iter in range(1, 5):\n",
    "    for l, load in enumerate(tqdm(loads)):\n",
    "        switch = WPimSwitch(16, 16, credit, frame_length=1000, num_iteration=num_iter)\n",
    "        gen = ClientServerInputGenerator(switch, L=load)\n",
    "        gen.run(total_run)\n",
    "\n",
    "        # Compute the average queueing delay of packets.\n",
    "        delays = []\n",
    "        for packet in switch.processed_packets:\n",
    "            delays.append(packet.time_in_queue)\n",
    "\n",
    "        average_delay = np.average(delays)\n",
    "        delay_per_load[num_iter - 1][l] = average_delay\n"
   ]
  },
  {
   "cell_type": "code",
   "execution_count": null,
   "metadata": {},
   "outputs": [],
   "source": [
    "plt = draw_plot(loads, delay_per_load, [str(i) + \" iterations\" for i in range(1, 5)], scale=\"log\", title=\"Fig 5 (no pim)\", xlabel=\"Average delay\", ylabel=\"Total offered load\", ylim=[0.01,1000])"
   ]
  },
  {
   "cell_type": "markdown",
   "metadata": {},
   "source": [
    "Here again, we re-ran the experiment with PIM at the end treatment. Now, it gives very different result."
   ]
  },
  {
   "cell_type": "code",
   "execution_count": null,
   "metadata": {},
   "outputs": [],
   "source": [
    "delay_per_load = np.zeros((4, len(loads)))\n",
    "\n",
    "for num_iter in range(1, 5):\n",
    "    for l, load in enumerate(tqdm(loads)):\n",
    "        switch = WPimSwitch(16, 16, credit, frame_length=1000, num_iteration=num_iter, run_pim_after=True)\n",
    "        gen = ClientServerInputGenerator(switch, L=load)\n",
    "        gen.run(total_run)\n",
    "\n",
    "        # Compute the average queueing delay of packets.\n",
    "        delays = []\n",
    "        for packet in switch.processed_packets:\n",
    "            delays.append(packet.time_in_queue)\n",
    "\n",
    "        average_delay = np.average(delays)\n",
    "        delay_per_load[num_iter - 1][l] = average_delay"
   ]
  },
  {
   "cell_type": "code",
   "execution_count": null,
   "metadata": {},
   "outputs": [],
   "source": [
    "plt = draw_plot(loads, delay_per_load, [str(i) + \" iterations\" for i in range(1, 5)], scale=\"log\", title=\"Fig 5 (with pim)\", xlabel=\"Average delay\", ylabel=\"Total offered load\", ylim=[0.01,1000])"
   ]
  },
  {
   "cell_type": "markdown",
   "metadata": {},
   "source": [
    "## Reproduction of Figure 5 of Stiliadis \n",
    "\n",
    "Finally, this is the reproduction of figure 6 from Stiliadis without running PIM after the matching process. It plots the allocated bandwidth of the 4 times 4 switch under the different load on input ports. Every input port switches to the single output port but they are each assigned to 40, 30, 20 and 10 percent of the bandwidth.\n",
    "\n",
    "As you can see, it does not follows the graph in the original paper."
   ]
  },
  {
   "cell_type": "code",
   "execution_count": null,
   "metadata": {},
   "outputs": [],
   "source": [
    "loads = np.linspace(0.05, 1, 19)\n",
    "credit = np.array([[100, 0, 0, 0], [200, 0, 0, 0], [300, 0, 0, 0], [400, 0, 0, 0]])\n",
    "credit_stat = np.array([[1], [2], [3], [4]])\n",
    "\n",
    "data = [np.zeros((4, len(loads))) for _ in range(3)]\n",
    "total_run = 10000\n",
    "\n",
    "for l, load in enumerate(loads):\n",
    "    switches = [ WPimSwitch(4, 4, credit, frame_length=1000), PimSwitch(4, 4), StatisticalSwitch(4, 1, credit_stat, 10)]\n",
    "    for i, switch in enumerate(switches):\n",
    "        gen = OutputContentionInputGenerator(switch, load, 4, 0, [0, 1, 2, 3])\n",
    "        gen.run(total_run)\n",
    "\n",
    "        bandwidth_usage = switch.input_output_cnt[:, 0]\n",
    "        normalized_bandwidth = bandwidth_usage / total_run\n",
    "\n",
    "        for j in range(4):\n",
    "            data[i][j][l] = normalized_bandwidth[j]\n",
    "\n",
    "cs = ['a', 'b', 'c']\n",
    "for i, d in enumerate(data):\n",
    "    plt = draw_plot(loads, d, [str((j + 1) * 10) + \"%\" for j in range(4)], ylim=[0, 1], figure_index=i, spacing=0.1,\n",
    "              title=\"Figure of 6 (\" + cs[i] + \"; No PIM)\")\n",
    "    plt.show()\n"
   ]
  },
  {
   "cell_type": "markdown",
   "metadata": {},
   "source": [
    "It can only be reproduced by running PIM after the matching process. This makes sense because, without running PIM at the end, under the light load, the input port that is given 10 percent of the bandwidth would not be able to have 25 percent of the bandwidth."
   ]
  },
  {
   "cell_type": "code",
   "execution_count": null,
   "metadata": {},
   "outputs": [],
   "source": [
    "loads = np.linspace(0.05, 1, 19)\n",
    "credit = np.array([[100, 0, 0, 0], [200, 0, 0, 0], [300, 0, 0, 0], [400, 0, 0, 0]])\n",
    "credit_stat = np.array([[1], [2], [3], [4]])\n",
    "\n",
    "data = [np.zeros((4, len(loads))) for _ in range(3)]\n",
    "total_run = 10000\n",
    "\n",
    "for l, load in enumerate(loads):\n",
    "    switches = [ WPimSwitch(4, 4, credit, frame_length=1000), PimSwitch(4, 4), StatisticalSwitch(4, 1, credit_stat, 10)]\n",
    "    for i, switch in enumerate(switches):\n",
    "        gen = OutputContentionInputGenerator(switch, load, 4, 0, [0, 1, 2, 3])\n",
    "        gen.run(total_run)\n",
    "\n",
    "        bandwidth_usage = switch.input_output_cnt[:, 0]\n",
    "        normalized_bandwidth = bandwidth_usage / total_run\n",
    "\n",
    "        for j in range(4):\n",
    "            data[i][j][l] = normalized_bandwidth[j]\n",
    "\n",
    "cs = ['a', 'b', 'c']\n",
    "for i, d in enumerate(data):\n",
    "    plt = draw_plot(loads, d, [str((j + 1) * 10) + \"%\" for j in range(4)], ylim=[0, 1], figure_index=i, spacing=0.1,\n",
    "              title=\"Figure of 6 (\" + cs[i] + \"; With PIM)\")\n",
    "    plt.show()\n"
   ]
  }
 ],
 "metadata": {
  "kernelspec": {
   "display_name": "Python 3",
   "language": "python",
   "name": "python3"
  }
 },
 "nbformat": 4,
 "nbformat_minor": 2
}
