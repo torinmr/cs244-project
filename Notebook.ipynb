{
 "cells": [
  {
   "cell_type": "code",
   "execution_count": 72,
   "metadata": {},
   "outputs": [
    {
     "name": "stdout",
     "output_type": "stream",
     "text": [
      "The autoreload extension is already loaded. To reload it, use:\n",
      "  %reload_ext autoreload\n"
     ]
    }
   ],
   "source": [
    "# Automatically reload modules to pick up changes.\n",
    "# See https://ipython.org/ipython-doc/3/config/extensions/autoreload.html\n",
    "%load_ext autoreload\n",
    "%autoreload 2\n",
    "\n",
    "import lib.experiments.pim_completion as pim_completion"
   ]
  },
  {
   "cell_type": "code",
   "execution_count": 74,
   "metadata": {},
   "outputs": [
    {
     "name": "stdout",
     "output_type": "stream",
     "text": [
      "Testing convergence of PIM.\n",
      "\n",
      "Results of experiment with arrival probability 0.1 (1000 trials):\n",
      "Iteration 1: 0.876095032745032\n",
      "Iteration 2: 0.9966057949732723\n",
      "Iteration 3: 1.0\n",
      "\n",
      "Results of experiment with arrival probability 0.25 (1000 trials):\n",
      "Iteration 1: 0.7573584956709937\n",
      "Iteration 2: 0.9756194711632766\n",
      "Iteration 3: 0.9978824440164648\n",
      "Iteration 4: 1.0\n",
      "\n",
      "Results of experiment with arrival probability 0.5 (1000 trials):\n",
      "Iteration 1: 0.6895431776556787\n",
      "Iteration 2: 0.9352025641025588\n",
      "Iteration 3: 0.9944093954947246\n",
      "Iteration 4: 0.9988636363636364\n",
      "Iteration 5: 1.0\n",
      "\n",
      "Results of experiment with arrival probability 0.75 (1000 trials):\n",
      "Iteration 1: 0.6605494047619053\n",
      "Iteration 2: 0.9050904761904736\n",
      "Iteration 3: 0.9839328537170258\n",
      "Iteration 4: 0.9984137055837563\n",
      "Iteration 5: 1.0\n",
      "\n",
      "Results of experiment with arrival probability 1.0 (1000 trials):\n",
      "Iteration 1: 0.6485625\n",
      "Iteration 2: 0.8825625\n",
      "Iteration 3: 0.9717931937172775\n",
      "Iteration 4: 0.9970012626262627\n",
      "Iteration 5: 1.0\n",
      "\n"
     ]
    }
   ],
   "source": [
    "pim_completion.main()"
   ]
  },
  {
   "cell_type": "code",
   "execution_count": null,
   "metadata": {},
   "outputs": [],
   "source": []
  },
  {
   "cell_type": "code",
   "execution_count": null,
   "metadata": {},
   "outputs": [],
   "source": []
  }
 ],
 "metadata": {
  "kernelspec": {
   "display_name": "Python 3",
   "language": "python",
   "name": "python3"
  },
  "language_info": {
   "codemirror_mode": {
    "name": "ipython",
    "version": 3
   },
   "file_extension": ".py",
   "mimetype": "text/x-python",
   "name": "python",
   "nbconvert_exporter": "python",
   "pygments_lexer": "ipython3",
   "version": "3.6.5"
  }
 },
 "nbformat": 4,
 "nbformat_minor": 2
}
