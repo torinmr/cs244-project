{
 "cells": [
  {
   "cell_type": "code",
   "execution_count": null,
   "metadata": {},
   "outputs": [],
   "source": [
    "# Automatically reload modules to pick up changes.\n",
    "# See https://ipython.org/ipython-doc/3/config/extensions/autoreload.html\n",
    "%load_ext autoreload\n",
    "%autoreload 2\n",
    "\n",
    "import lib.experiments.pim_completion as pim_completion\n",
    "from lib.client_server_input_generator import ClientServerInputGenerator\n",
    "from lib.output_contention_input_generator import OutputContentionInputGenerator\n",
    "from lib.pim import PimSwitch\n",
    "from lib.uniform_input_generator import UniformInputGenerator"
   ]
  },
  {
   "cell_type": "code",
   "execution_count": null,
   "metadata": {},
   "outputs": [],
   "source": [
    "p = PimSwitch(16, 16)\n",
    "u = UniformInputGenerator(p, load=1.0)\n",
    "u.run(1000)"
   ]
  },
  {
   "cell_type": "code",
   "execution_count": null,
   "metadata": {},
   "outputs": [],
   "source": [
    "p = PimSwitch(16, 16)\n",
    "oc = OutputContentionInputGenerator(p, load_per_input=0.3, num_contending_inputs=4)\n",
    "oc.run(100)"
   ]
  },
  {
   "cell_type": "code",
   "execution_count": null,
   "metadata": {},
   "outputs": [],
   "source": [
    "p = PimSwitch(16, 16)\n",
    "cs = ClientServerInputGenerator(p, L=0.9)\n",
    "cs.run(1)"
   ]
  },
  {
   "cell_type": "code",
   "execution_count": null,
   "metadata": {},
   "outputs": [],
   "source": []
  }
 ],
 "metadata": {
  "kernelspec": {
   "display_name": "Python 3",
   "language": "python",
   "name": "python3"
  },
  "language_info": {
   "codemirror_mode": {
    "name": "ipython",
    "version": 3
   },
   "file_extension": ".py",
   "mimetype": "text/x-python",
   "name": "python",
   "nbconvert_exporter": "python",
   "pygments_lexer": "ipython3",
   "version": "3.6.5"
  }
 },
 "nbformat": 4,
 "nbformat_minor": 2
}
